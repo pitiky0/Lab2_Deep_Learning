{
 "cells": [
  {
   "cell_type": "code",
   "execution_count": 2,
   "id": "29c3692a-3c33-4917-a18c-bfb55b885597",
   "metadata": {},
   "outputs": [],
   "source": [
    "import torch\n",
    "import torch.nn as nn\n",
    "from torch.optim import Adam\n",
    "from torch.nn import CrossEntropyLoss\n",
    "from torch.utils.data import DataLoader\n",
    "from torchvision.transforms import ToTensor\n",
    "from torchvision.datasets import MNIST\n",
    "from tqdm import tqdm"
   ]
  },
  {
   "cell_type": "code",
   "execution_count": 3,
   "id": "722770b6-cf0e-4ec6-943a-7d7275d00e9a",
   "metadata": {},
   "outputs": [],
   "source": [
    "# Patch Embedding Layer\n",
    "class PatchEmbedding(nn.Module):\n",
    "    def __init__(self, img_size=28, patch_size=7, in_channels=1, embed_dim=64):\n",
    "        super(PatchEmbedding, self).__init__()\n",
    "        self.img_size = img_size\n",
    "        self.patch_size = patch_size\n",
    "        self.n_patches = (img_size // patch_size) ** 2\n",
    "        self.proj = nn.Conv2d(in_channels, embed_dim, kernel_size=patch_size, stride=patch_size)\n",
    "        \n",
    "    def forward(self, x):\n",
    "        patches = self.proj(x).flatten(2).transpose(1, 2)  # Flatten patches\n",
    "        return patches"
   ]
  },
  {
   "cell_type": "code",
   "execution_count": 4,
   "id": "f7ffd5dc-32e1-417f-98b5-47eab5b4dc5e",
   "metadata": {},
   "outputs": [],
   "source": [
    "# Vision Transformer (ViT) Model\n",
    "class MyViT(nn.Module):\n",
    "    def __init__(self, chw, n_patches=7, hidden_d=64, n_heads=8, out_d=10):\n",
    "        super(MyViT, self).__init__()\n",
    "        self.chw = chw\n",
    "        self.n_patches = n_patches\n",
    "        self.hidden_d = hidden_d\n",
    "        self.n_heads = n_heads\n",
    "        self.out_d = out_d\n",
    "        \n",
    "        # Patch Embedding Layer\n",
    "        self.patch_embed = PatchEmbedding(img_size=chw[1], patch_size=chw[1] // n_patches, in_channels=chw[0], embed_dim=hidden_d)\n",
    "        \n",
    "        # Transformer Encoder Blocks\n",
    "        self.encoder_blocks = nn.ModuleList([\n",
    "            nn.TransformerEncoderLayer(d_model=hidden_d, nhead=n_heads) for _ in range(2)\n",
    "        ])\n",
    "        \n",
    "        # Classification head\n",
    "        self.classification_head = nn.Linear(hidden_d, out_d)\n",
    "        \n",
    "    def forward(self, images):\n",
    "        patches = self.patch_embed(images)\n",
    "        \n",
    "        # Transformer Encoder Blocks\n",
    "        for block in self.encoder_blocks:\n",
    "            patches = block(patches)\n",
    "        \n",
    "        cls_token = patches[:, 0]  # Extract classification token\n",
    "        output = self.classification_head(cls_token)\n",
    "        \n",
    "        return output"
   ]
  },
  {
   "cell_type": "code",
   "execution_count": 5,
   "id": "bc051949-d62a-4f11-9db7-cdf8a57f4537",
   "metadata": {},
   "outputs": [],
   "source": [
    "# Training\n",
    "def train(model, train_loader, optimizer, criterion, device):\n",
    "    model.train()\n",
    "    train_loss = 0.0\n",
    "    for images, labels in tqdm(train_loader, desc=\"Training\", leave=False):\n",
    "        images, labels = images.to(device), labels.to(device)\n",
    "        optimizer.zero_grad()\n",
    "        outputs = model(images)\n",
    "        loss = criterion(outputs, labels)\n",
    "        loss.backward()\n",
    "        optimizer.step()\n",
    "        train_loss += loss.item() * images.size(0)\n",
    "    \n",
    "    return train_loss / len(train_loader.dataset)"
   ]
  },
  {
   "cell_type": "code",
   "execution_count": 6,
   "id": "a873fa19-958c-4759-98d5-16d131d72db8",
   "metadata": {},
   "outputs": [],
   "source": [
    "# Prepare dataset and dataloaders\n",
    "transform = ToTensor()\n",
    "train_set = MNIST(root='./data', train=True, download=True, transform=transform)\n",
    "test_set = MNIST(root='./data', train=False, download=True, transform=transform)\n",
    "\n",
    "batch_size = 128\n",
    "train_loader = DataLoader(train_set, batch_size=batch_size, shuffle=True)\n",
    "test_loader = DataLoader(test_set, batch_size=batch_size, shuffle=False)\n",
    "\n",
    "device = torch.device(\"cuda\" if torch.cuda.is_available() else \"cpu\")"
   ]
  },
  {
   "cell_type": "code",
   "execution_count": null,
   "id": "9f026390-604d-4180-9b36-f0292316de4f",
   "metadata": {},
   "outputs": [
    {
     "name": "stderr",
     "output_type": "stream",
     "text": [
      "                                                                                                                       \r"
     ]
    },
    {
     "name": "stdout",
     "output_type": "stream",
     "text": [
      "Epoch [1/5] - Train Loss: 2.3144\n"
     ]
    },
    {
     "name": "stderr",
     "output_type": "stream",
     "text": [
      "Training:   6%|████                                                                   | 27/469 [00:17<04:40,  1.58it/s]"
     ]
    }
   ],
   "source": [
    "# Model Initialization\n",
    "model = MyViT(chw=(1, 28, 28), n_patches=7).to(device)\n",
    "optimizer = Adam(model.parameters(), lr=0.001)\n",
    "criterion = CrossEntropyLoss()\n",
    "\n",
    "num_epochs = 5\n",
    "\n",
    "for epoch in range(num_epochs):\n",
    "    train_loss = train(model, train_loader, optimizer, criterion, device)\n",
    "    print(f\"Epoch [{epoch + 1}/{num_epochs}] - Train Loss: {train_loss:.4f}\")"
   ]
  },
  {
   "cell_type": "code",
   "execution_count": null,
   "id": "2aefebd5-3f08-49bf-b5ad-756170b95dfd",
   "metadata": {},
   "outputs": [],
   "source": [
    "# Test loop\n",
    "model.eval()\n",
    "correct = 0\n",
    "total = 0\n",
    "with torch.no_grad():\n",
    "    for images, labels in tqdm(test_loader, desc=\"Testing\", leave=False):\n",
    "        images, labels = images.to(device), labels.to(device)\n",
    "        outputs = model(images)\n",
    "        _, predicted = torch.max(outputs.data, 1)\n",
    "        total += labels.size(0)\n",
    "        correct += (predicted == labels).sum().item()\n",
    "\n",
    "accuracy = 100 * correct / total\n",
    "print(f\"Accuracy on test set: {accuracy:.2f}%\")\n"
   ]
  },
  {
   "cell_type": "code",
   "execution_count": null,
   "id": "b7a56c08-2dd8-47e2-b8e3-b9f491ebb839",
   "metadata": {},
   "outputs": [],
   "source": []
  }
 ],
 "metadata": {
  "kernelspec": {
   "display_name": "Python 3 (ipykernel)",
   "language": "python",
   "name": "python3"
  },
  "language_info": {
   "codemirror_mode": {
    "name": "ipython",
    "version": 3
   },
   "file_extension": ".py",
   "mimetype": "text/x-python",
   "name": "python",
   "nbconvert_exporter": "python",
   "pygments_lexer": "ipython3",
   "version": "3.11.6"
  }
 },
 "nbformat": 4,
 "nbformat_minor": 5
}
